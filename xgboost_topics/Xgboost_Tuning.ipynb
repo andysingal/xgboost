{
  "nbformat": 4,
  "nbformat_minor": 0,
  "metadata": {
    "colab": {
      "provenance": []
    },
    "kernelspec": {
      "name": "python3",
      "display_name": "Python 3"
    },
    "language_info": {
      "name": "python"
    }
  },
  "cells": [
    {
      "cell_type": "code",
      "execution_count": 9,
      "metadata": {
        "colab": {
          "base_uri": "https://localhost:8080/",
          "height": 114
        },
        "id": "wVg6RWSkuvDt",
        "outputId": "530360ea-f3db-44b4-d969-1ff86dd08166"
      },
      "outputs": [
        {
          "output_type": "display_data",
          "data": {
            "text/plain": [
              "<Figure size 500x100 with 1 Axes>"
            ],
            "image/png": "[encoded data removed]"
          },
          "metadata": {}
        }
      ],
      "source": [
        "import os\n",
        "import gc\n",
        "\n",
        "import time\n",
        "import random\n",
        "import math\n",
        "import glob\n",
        "from scipy import spatial\n",
        "from tqdm import tqdm\n",
        "import warnings\n",
        "import cv2\n",
        "import pandas as pd\n",
        "import numpy as np\n",
        "from numpy import dot, sqrt\n",
        "import seaborn as sns\n",
        "import matplotlib as mpl\n",
        "import matplotlib.patches as patches\n",
        "import matplotlib.pyplot as plt\n",
        "import matplotlib.image as mpimg\n",
        "from matplotlib.offsetbox import AnnotationBbox, OffsetImage\n",
        "from IPython.display import display_html\n",
        "from wordcloud import WordCloud, STOPWORDS\n",
        "from PIL import Image\n",
        "plt.rcParams.update({'font.size': 16})\n",
        "\n",
        "from sklearn.model_selection import train_test_split\n",
        "from sklearn.preprocessing import StandardScaler\n",
        "from sklearn.decomposition import PCA\n",
        "\n",
        "from xgboost import XGBClassifier\n",
        "from sklearn.metrics import accuracy_score\n",
        "from sklearn.model_selection import cross_val_score\n",
        "\n",
        "from matplotlib.colors import ListedColormap\n",
        "\n",
        "import warnings\n",
        "warnings.filterwarnings(\"ignore\", category=DeprecationWarning)\n",
        "warnings.filterwarnings(\"ignore\", category=UserWarning)\n",
        "warnings.filterwarnings(\"ignore\", category=FutureWarning)\n",
        "\n",
        "# Custom colors\n",
        "class clr:\n",
        "    S = '\\033[1m' + '\\033[95m'\n",
        "    E = '\\033[0m'\n",
        "# Color Palette\n",
        "custom_colors = ['#7400ff', '#a788e4', '#d216d2', '#ffb500', '#36c9dd']\n",
        "sns.palplot(sns.color_palette(custom_colors))\n",
        "\n",
        "# Set Style\n",
        "sns.set_style(\"whitegrid\")\n",
        "sns.despine(left=True, bottom=True)\n",
        "\n",
        "# Set tick size\n",
        "plt.rc('xtick',labelsize=12)\n",
        "plt.rc('ytick',labelsize=12)"
      ]
    },
    {
      "cell_type": "code",
      "source": [
        "def distplot_features(df, feature, title, color = custom_colors[4], categorical=True):\n",
        "    '''Takes a column from the dataframe and plots the distribution (after count)'''\n",
        "\n",
        "    if categorical: values = df[feature].value_counts().values\n",
        "    else: values = df[feature].values\n",
        "\n",
        "    print('Mean: {:,}'.format(np.mean(values)), \"\\n\"\n",
        "          'Median: {:,}'.format(np.median(values)), \"\\n\"\n",
        "          'Max: {:,}'.format(np.max(values)))\n",
        "\n",
        "    plt.figure(figsize = (18, 3))\n",
        "\n",
        "    if categorical: sns.distplot(values, hist=False, color = color, kde_kws = {'lw':3})\n",
        "    else:\n",
        "        # To speed up the process\n",
        "        if len(values) > 1000000: sns.distplot(values[::250000], hist=False, color = color, kde_kws = {'lw':3})\n",
        "        else: sns.distplot(values, hist=False, color = color, kde_kws = {'lw':3})\n",
        "\n",
        "    plt.title(title, fontsize=15)\n",
        "    plt.show()    \n",
        "    del values\n",
        "    gc.collect()        "
      ],
      "metadata": {
        "id": "x-rAwBvIxC8p"
      },
      "execution_count": 7,
      "outputs": []
    },
    {
      "cell_type": "code",
      "source": [
        "df = pd.read_csv('https://media.githubusercontent.com/media/PacktPublishing/Hands-On-Gradient-Boosting-with-XGBoost-and-Scikit-learn/master/Chapter06/heart_disease.csv')\n",
        "print(clr.S+\"CANCER DATASET:\"+clr.E, df.shape)\n",
        "df.head().style.background_gradient(cmap = \"Oranges\")"
      ],
      "metadata": {
        "colab": {
          "base_uri": "https://localhost:8080/",
          "height": 224
        },
        "id": "zip0Ou6Evpm-",
        "outputId": "37dae730-94a5-4eb3-9572-213c0b666e9c"
      },
      "execution_count": 10,
      "outputs": [
        {
          "output_type": "stream",
          "name": "stdout",
          "text": [
            "\u001b[1m\u001b[95mCANCER DATASET:\u001b[0m (303, 14)\n"
          ]
        },
        {
          "output_type": "execute_result",
          "data": {
            "text/plain": [
              "<pandas.io.formats.style.Styler at 0x7fba165828b0>"
            ],
            "text/html": [
              "<style type=\"text/css\">\n",
              "#T_3b506_row0_col0, #T_3b506_row0_col1, #T_3b506_row0_col2, #T_3b506_row0_col3, #T_3b506_row0_col5, #T_3b506_row1_col1, #T_3b506_row1_col6, #T_3b506_row1_col7, #T_3b506_row1_col9, #T_3b506_row1_col12, #T_3b506_row2_col10, #T_3b506_row2_col12, #T_3b506_row3_col1, #T_3b506_row3_col6, #T_3b506_row3_col10, #T_3b506_row3_col12, #T_3b506_row4_col4, #T_3b506_row4_col6, #T_3b506_row4_col8, #T_3b506_row4_col10, #T_3b506_row4_col12 {\n",
              "  background-color: #7f2704;\n",
              "  color: #f1f1f1;\n",
              "}\n",
              "#T_3b506_row0_col4 {\n",
              "  background-color: #fddab6;\n",
              "  color: #000000;\n",
              "}\n",
              "#T_3b506_row0_col6, #T_3b506_row0_col7, #T_3b506_row0_col8, #T_3b506_row0_col10, #T_3b506_row0_col11, #T_3b506_row0_col12, #T_3b506_row0_col13, #T_3b506_row1_col0, #T_3b506_row1_col5, #T_3b506_row1_col8, #T_3b506_row1_col10, #T_3b506_row1_col11, #T_3b506_row1_col13, #T_3b506_row2_col1, #T_3b506_row2_col4, #T_3b506_row2_col5, #T_3b506_row2_col6, #T_3b506_row2_col8, #T_3b506_row2_col11, #T_3b506_row2_col13, #T_3b506_row3_col3, #T_3b506_row3_col5, #T_3b506_row3_col8, #T_3b506_row3_col11, #T_3b506_row3_col13, #T_3b506_row4_col1, #T_3b506_row4_col2, #T_3b506_row4_col3, #T_3b506_row4_col5, #T_3b506_row4_col9, #T_3b506_row4_col11, #T_3b506_row4_col13 {\n",
              "  background-color: #fff5eb;\n",
              "  color: #000000;\n",
              "}\n",
              "#T_3b506_row0_col9 {\n",
              "  background-color: #f5741f;\n",
              "  color: #f1f1f1;\n",
              "}\n",
              "#T_3b506_row1_col2 {\n",
              "  background-color: #e95e0d;\n",
              "  color: #f1f1f1;\n",
              "}\n",
              "#T_3b506_row1_col3, #T_3b506_row2_col3 {\n",
              "  background-color: #fda762;\n",
              "  color: #000000;\n",
              "}\n",
              "#T_3b506_row1_col4 {\n",
              "  background-color: #fdc189;\n",
              "  color: #000000;\n",
              "}\n",
              "#T_3b506_row2_col0 {\n",
              "  background-color: #fee1c4;\n",
              "  color: #000000;\n",
              "}\n",
              "#T_3b506_row2_col2, #T_3b506_row3_col2 {\n",
              "  background-color: #fdb97d;\n",
              "  color: #000000;\n",
              "}\n",
              "#T_3b506_row2_col7 {\n",
              "  background-color: #f4711c;\n",
              "  color: #f1f1f1;\n",
              "}\n",
              "#T_3b506_row2_col9 {\n",
              "  background-color: #fdc997;\n",
              "  color: #000000;\n",
              "}\n",
              "#T_3b506_row3_col0 {\n",
              "  background-color: #dc4c03;\n",
              "  color: #f1f1f1;\n",
              "}\n",
              "#T_3b506_row3_col4 {\n",
              "  background-color: #fdd7af;\n",
              "  color: #000000;\n",
              "}\n",
              "#T_3b506_row3_col7 {\n",
              "  background-color: #d64701;\n",
              "  color: #f1f1f1;\n",
              "}\n",
              "#T_3b506_row3_col9 {\n",
              "  background-color: #feeddc;\n",
              "  color: #000000;\n",
              "}\n",
              "#T_3b506_row4_col0 {\n",
              "  background-color: #d14501;\n",
              "  color: #f1f1f1;\n",
              "}\n",
              "#T_3b506_row4_col7 {\n",
              "  background-color: #fdb576;\n",
              "  color: #000000;\n",
              "}\n",
              "</style>\n",
              "<table id=\"T_3b506\" class=\"dataframe\">\n",
              "  <thead>\n",
              "    <tr>\n",
              "      <th class=\"blank level0\" >&nbsp;</th>\n",
              "      <th id=\"T_3b506_level0_col0\" class=\"col_heading level0 col0\" >age</th>\n",
              "      <th id=\"T_3b506_level0_col1\" class=\"col_heading level0 col1\" >sex</th>\n",
              "      <th id=\"T_3b506_level0_col2\" class=\"col_heading level0 col2\" >cp</th>\n",
              "      <th id=\"T_3b506_level0_col3\" class=\"col_heading level0 col3\" >trestbps</th>\n",
              "      <th id=\"T_3b506_level0_col4\" class=\"col_heading level0 col4\" >chol</th>\n",
              "      <th id=\"T_3b506_level0_col5\" class=\"col_heading level0 col5\" >fbs</th>\n",
              "      <th id=\"T_3b506_level0_col6\" class=\"col_heading level0 col6\" >restecg</th>\n",
              "      <th id=\"T_3b506_level0_col7\" class=\"col_heading level0 col7\" >thalach</th>\n",
              "      <th id=\"T_3b506_level0_col8\" class=\"col_heading level0 col8\" >exang</th>\n",
              "      <th id=\"T_3b506_level0_col9\" class=\"col_heading level0 col9\" >oldpeak</th>\n",
              "      <th id=\"T_3b506_level0_col10\" class=\"col_heading level0 col10\" >slope</th>\n",
              "      <th id=\"T_3b506_level0_col11\" class=\"col_heading level0 col11\" >ca</th>\n",
              "      <th id=\"T_3b506_level0_col12\" class=\"col_heading level0 col12\" >thal</th>\n",
              "      <th id=\"T_3b506_level0_col13\" class=\"col_heading level0 col13\" >target</th>\n",
              "    </tr>\n",
              "  </thead>\n",
              "  <tbody>\n",
              "    <tr>\n",
              "      <th id=\"T_3b506_level0_row0\" class=\"row_heading level0 row0\" >0</th>\n",
              "      <td id=\"T_3b506_row0_col0\" class=\"data row0 col0\" >63</td>\n",
              "      <td id=\"T_3b506_row0_col1\" class=\"data row0 col1\" >1</td>\n",
              "      <td id=\"T_3b506_row0_col2\" class=\"data row0 col2\" >3</td>\n",
              "      <td id=\"T_3b506_row0_col3\" class=\"data row0 col3\" >145</td>\n",
              "      <td id=\"T_3b506_row0_col4\" class=\"data row0 col4\" >233</td>\n",
              "      <td id=\"T_3b506_row0_col5\" class=\"data row0 col5\" >1</td>\n",
              "      <td id=\"T_3b506_row0_col6\" class=\"data row0 col6\" >0</td>\n",
              "      <td id=\"T_3b506_row0_col7\" class=\"data row0 col7\" >150</td>\n",
              "      <td id=\"T_3b506_row0_col8\" class=\"data row0 col8\" >0</td>\n",
              "      <td id=\"T_3b506_row0_col9\" class=\"data row0 col9\" >2.300000</td>\n",
              "      <td id=\"T_3b506_row0_col10\" class=\"data row0 col10\" >0</td>\n",
              "      <td id=\"T_3b506_row0_col11\" class=\"data row0 col11\" >0</td>\n",
              "      <td id=\"T_3b506_row0_col12\" class=\"data row0 col12\" >1</td>\n",
              "      <td id=\"T_3b506_row0_col13\" class=\"data row0 col13\" >1</td>\n",
              "    </tr>\n",
              "    <tr>\n",
              "      <th id=\"T_3b506_level0_row1\" class=\"row_heading level0 row1\" >1</th>\n",
              "      <td id=\"T_3b506_row1_col0\" class=\"data row1 col0\" >37</td>\n",
              "      <td id=\"T_3b506_row1_col1\" class=\"data row1 col1\" >1</td>\n",
              "      <td id=\"T_3b506_row1_col2\" class=\"data row1 col2\" >2</td>\n",
              "      <td id=\"T_3b506_row1_col3\" class=\"data row1 col3\" >130</td>\n",
              "      <td id=\"T_3b506_row1_col4\" class=\"data row1 col4\" >250</td>\n",
              "      <td id=\"T_3b506_row1_col5\" class=\"data row1 col5\" >0</td>\n",
              "      <td id=\"T_3b506_row1_col6\" class=\"data row1 col6\" >1</td>\n",
              "      <td id=\"T_3b506_row1_col7\" class=\"data row1 col7\" >187</td>\n",
              "      <td id=\"T_3b506_row1_col8\" class=\"data row1 col8\" >0</td>\n",
              "      <td id=\"T_3b506_row1_col9\" class=\"data row1 col9\" >3.500000</td>\n",
              "      <td id=\"T_3b506_row1_col10\" class=\"data row1 col10\" >0</td>\n",
              "      <td id=\"T_3b506_row1_col11\" class=\"data row1 col11\" >0</td>\n",
              "      <td id=\"T_3b506_row1_col12\" class=\"data row1 col12\" >2</td>\n",
              "      <td id=\"T_3b506_row1_col13\" class=\"data row1 col13\" >1</td>\n",
              "    </tr>\n",
              "    <tr>\n",
              "      <th id=\"T_3b506_level0_row2\" class=\"row_heading level0 row2\" >2</th>\n",
              "      <td id=\"T_3b506_row2_col0\" class=\"data row2 col0\" >41</td>\n",
              "      <td id=\"T_3b506_row2_col1\" class=\"data row2 col1\" >0</td>\n",
              "      <td id=\"T_3b506_row2_col2\" class=\"data row2 col2\" >1</td>\n",
              "      <td id=\"T_3b506_row2_col3\" class=\"data row2 col3\" >130</td>\n",
              "      <td id=\"T_3b506_row2_col4\" class=\"data row2 col4\" >204</td>\n",
              "      <td id=\"T_3b506_row2_col5\" class=\"data row2 col5\" >0</td>\n",
              "      <td id=\"T_3b506_row2_col6\" class=\"data row2 col6\" >0</td>\n",
              "      <td id=\"T_3b506_row2_col7\" class=\"data row2 col7\" >172</td>\n",
              "      <td id=\"T_3b506_row2_col8\" class=\"data row2 col8\" >0</td>\n",
              "      <td id=\"T_3b506_row2_col9\" class=\"data row2 col9\" >1.400000</td>\n",
              "      <td id=\"T_3b506_row2_col10\" class=\"data row2 col10\" >2</td>\n",
              "      <td id=\"T_3b506_row2_col11\" class=\"data row2 col11\" >0</td>\n",
              "      <td id=\"T_3b506_row2_col12\" class=\"data row2 col12\" >2</td>\n",
              "      <td id=\"T_3b506_row2_col13\" class=\"data row2 col13\" >1</td>\n",
              "    </tr>\n",
              "    <tr>\n",
              "      <th id=\"T_3b506_level0_row3\" class=\"row_heading level0 row3\" >3</th>\n",
              "      <td id=\"T_3b506_row3_col0\" class=\"data row3 col0\" >56</td>\n",
              "      <td id=\"T_3b506_row3_col1\" class=\"data row3 col1\" >1</td>\n",
              "      <td id=\"T_3b506_row3_col2\" class=\"data row3 col2\" >1</td>\n",
              "      <td id=\"T_3b506_row3_col3\" class=\"data row3 col3\" >120</td>\n",
              "      <td id=\"T_3b506_row3_col4\" class=\"data row3 col4\" >236</td>\n",
              "      <td id=\"T_3b506_row3_col5\" class=\"data row3 col5\" >0</td>\n",
              "      <td id=\"T_3b506_row3_col6\" class=\"data row3 col6\" >1</td>\n",
              "      <td id=\"T_3b506_row3_col7\" class=\"data row3 col7\" >178</td>\n",
              "      <td id=\"T_3b506_row3_col8\" class=\"data row3 col8\" >0</td>\n",
              "      <td id=\"T_3b506_row3_col9\" class=\"data row3 col9\" >0.800000</td>\n",
              "      <td id=\"T_3b506_row3_col10\" class=\"data row3 col10\" >2</td>\n",
              "      <td id=\"T_3b506_row3_col11\" class=\"data row3 col11\" >0</td>\n",
              "      <td id=\"T_3b506_row3_col12\" class=\"data row3 col12\" >2</td>\n",
              "      <td id=\"T_3b506_row3_col13\" class=\"data row3 col13\" >1</td>\n",
              "    </tr>\n",
              "    <tr>\n",
              "      <th id=\"T_3b506_level0_row4\" class=\"row_heading level0 row4\" >4</th>\n",
              "      <td id=\"T_3b506_row4_col0\" class=\"data row4 col0\" >57</td>\n",
              "      <td id=\"T_3b506_row4_col1\" class=\"data row4 col1\" >0</td>\n",
              "      <td id=\"T_3b506_row4_col2\" class=\"data row4 col2\" >0</td>\n",
              "      <td id=\"T_3b506_row4_col3\" class=\"data row4 col3\" >120</td>\n",
              "      <td id=\"T_3b506_row4_col4\" class=\"data row4 col4\" >354</td>\n",
              "      <td id=\"T_3b506_row4_col5\" class=\"data row4 col5\" >0</td>\n",
              "      <td id=\"T_3b506_row4_col6\" class=\"data row4 col6\" >1</td>\n",
              "      <td id=\"T_3b506_row4_col7\" class=\"data row4 col7\" >163</td>\n",
              "      <td id=\"T_3b506_row4_col8\" class=\"data row4 col8\" >1</td>\n",
              "      <td id=\"T_3b506_row4_col9\" class=\"data row4 col9\" >0.600000</td>\n",
              "      <td id=\"T_3b506_row4_col10\" class=\"data row4 col10\" >2</td>\n",
              "      <td id=\"T_3b506_row4_col11\" class=\"data row4 col11\" >0</td>\n",
              "      <td id=\"T_3b506_row4_col12\" class=\"data row4 col12\" >2</td>\n",
              "      <td id=\"T_3b506_row4_col13\" class=\"data row4 col13\" >1</td>\n",
              "    </tr>\n",
              "  </tbody>\n",
              "</table>\n"
            ]
          },
          "metadata": {},
          "execution_count": 10
        }
      ]
    },
    {
      "cell_type": "code",
      "source": [
        "df.shape, df.dtypes.value_counts(), df.info()"
      ],
      "metadata": {
        "colab": {
          "base_uri": "https://localhost:8080/"
        },
        "id": "wbZSB7nlwJbq",
        "outputId": "e9303eb7-ccb6-436f-ed26-d891e3fa25bc"
      },
      "execution_count": 4,
      "outputs": [
        {
          "output_type": "stream",
          "name": "stdout",
          "text": [
            "<class 'pandas.core.frame.DataFrame'>\n",
            "RangeIndex: 304 entries, 0 to 303\n",
            "Data columns (total 14 columns):\n",
            " #   Column  Non-Null Count  Dtype \n",
            "---  ------  --------------  ----- \n",
            " 0   0       304 non-null    object\n",
            " 1   1       304 non-null    object\n",
            " 2   2       304 non-null    object\n",
            " 3   3       304 non-null    object\n",
            " 4   4       304 non-null    object\n",
            " 5   5       304 non-null    object\n",
            " 6   6       304 non-null    object\n",
            " 7   7       304 non-null    object\n",
            " 8   8       304 non-null    object\n",
            " 9   9       304 non-null    object\n",
            " 10  10      304 non-null    object\n",
            " 11  11      304 non-null    object\n",
            " 12  12      304 non-null    object\n",
            " 13  13      304 non-null    object\n",
            "dtypes: object(14)\n",
            "memory usage: 33.4+ KB\n"
          ]
        },
        {
          "output_type": "execute_result",
          "data": {
            "text/plain": [
              "((304, 14),\n",
              " object    14\n",
              " dtype: int64,\n",
              " None)"
            ]
          },
          "metadata": {},
          "execution_count": 4
        }
      ]
    },
    {
      "cell_type": "code",
      "source": [
        "# Data Information\n",
        "print(\"Rows: {:,}\".format(len(df)), \"\\n\" +\n",
        "      \"Columns: {}\".format(len(df.columns)))\n",
        "\n",
        "# Find Missing Data if any\n",
        "total = len(df)\n",
        "\n",
        "for column in df.columns:\n",
        "    if df[column].isna().sum() != 0:\n",
        "        print(\"{} has: {:,} ({:.2}%) missing values.\".format(column, df[column].isna().sum(), \n",
        "                                                             (df[column].isna().sum()/total)*100))\n",
        "     "
      ],
      "metadata": {
        "colab": {
          "base_uri": "https://localhost:8080/"
        },
        "id": "vdXN99M8wNnC",
        "outputId": "6c11842a-5598-4886-a9e6-316442519683"
      },
      "execution_count": 11,
      "outputs": [
        {
          "output_type": "stream",
          "name": "stdout",
          "text": [
            "Rows: 303 \n",
            "Columns: 14\n"
          ]
        }
      ]
    },
    {
      "cell_type": "code",
      "source": [
        "vars_to_impute = [var for var in df.columns if df[var].isnull().sum() > 0]\n",
        "\n",
        "vars_to_impute, df.isnull().mean()\n",
        "     "
      ],
      "metadata": {
        "colab": {
          "base_uri": "https://localhost:8080/"
        },
        "id": "K9BZJFuUw0zQ",
        "outputId": "48b61b46-83c0-4e8f-add7-932a6ea1481e"
      },
      "execution_count": 6,
      "outputs": [
        {
          "output_type": "execute_result",
          "data": {
            "text/plain": [
              "([],\n",
              " 0     0.0\n",
              " 1     0.0\n",
              " 2     0.0\n",
              " 3     0.0\n",
              " 4     0.0\n",
              " 5     0.0\n",
              " 6     0.0\n",
              " 7     0.0\n",
              " 8     0.0\n",
              " 9     0.0\n",
              " 10    0.0\n",
              " 11    0.0\n",
              " 12    0.0\n",
              " 13    0.0\n",
              " dtype: float64)"
            ]
          },
          "metadata": {},
          "execution_count": 6
        }
      ]
    },
    {
      "cell_type": "code",
      "source": [
        "# Split data into X and y\n",
        "X = df.iloc[:, :-1]\n",
        "y = df.iloc[:, -1]\n",
        "\n",
        "model = XGBClassifier(booster='gbtree', objective='binary:logistic', random_state=2)\n",
        "\n",
        "# Obtain scores of cross-validation\n",
        "scores = cross_val_score(model, X, y, cv=5)\n",
        "\n",
        "# Display accuracy\n",
        "print('Accuracy:', np.round(scores, 2))\n",
        "\n",
        "# Display mean accuracy\n",
        "print('Accuracy mean: %0.2f' % (scores.mean()))"
      ],
      "metadata": {
        "colab": {
          "base_uri": "https://localhost:8080/"
        },
        "id": "Nvu3L9gsxeLr",
        "outputId": "7a34853c-0410-44ec-e4c8-8da4e227c5f8"
      },
      "execution_count": 12,
      "outputs": [
        {
          "output_type": "stream",
          "name": "stdout",
          "text": [
            "Accuracy: [0.84 0.85 0.82 0.8  0.77]\n",
            "Accuracy mean: 0.81\n"
          ]
        }
      ]
    },
    {
      "cell_type": "markdown",
      "source": [
        "**We used cross_val_score here, and we will use GridSearchCV to tune hyperparameters. Next, let's find a way to ensure that the test folds are the same using StratifiedKFold.**"
      ],
      "metadata": {
        "id": "OUiTrFbMyp5N"
      }
    },
    {
      "cell_type": "markdown",
      "source": [
        "#Baseline model\n"
      ],
      "metadata": {
        "id": "T-F2_sbrzDkT"
      }
    },
    {
      "cell_type": "code",
      "source": [
        "# Import GridSearchCV\n",
        "from sklearn.model_selection import StratifiedKFold\n",
        "\n",
        "kfold = StratifiedKFold(n_splits=5, shuffle=True, random_state=2)\n",
        "\n",
        "# Obtain scores of cross-validation\n",
        "scores = cross_val_score(model, X, y, cv=kfold)\n",
        "\n",
        "# Display accuracy\n",
        "print('Accuracy:', np.round(scores, 2))\n",
        "\n",
        "# Display mean accuracy\n",
        "print('Accuracy mean: %0.2f' % (scores.mean()))"
      ],
      "metadata": {
        "colab": {
          "base_uri": "https://localhost:8080/"
        },
        "id": "6eB6vZDgyaSI",
        "outputId": "e155fac2-556a-42bb-b64a-3eaa44465f37"
      },
      "execution_count": 13,
      "outputs": [
        {
          "output_type": "stream",
          "name": "stdout",
          "text": [
            "Accuracy: [0.72 0.82 0.75 0.8  0.82]\n",
            "Accuracy mean: 0.78\n"
          ]
        }
      ]
    },
    {
      "cell_type": "markdown",
      "source": [
        "$Combining GridSearchCV and RandomizedSearchCV"
      ],
      "metadata": {
        "id": "tfJuxYQGzOMs"
      }
    },
    {
      "cell_type": "code",
      "source": [
        "# Import GridSearchCV\n",
        "from sklearn.model_selection import GridSearchCV, RandomizedSearchCV, StratifiedKFold\n",
        "\n",
        "kfold = StratifiedKFold(n_splits=5, shuffle=True, random_state=2)\n",
        "\n",
        "def grid_search(params, random=False): \n",
        "    \n",
        "    xgb = XGBClassifier(booster='gbtree', objective='binary:logistic', random_state=2)\n",
        "    \n",
        "    kfold = StratifiedKFold(n_splits=5, shuffle=True, random_state=2)\n",
        "    \n",
        "    if random:\n",
        "        grid = RandomizedSearchCV(xgb, params, cv=kfold, n_iter=20, n_jobs=-1, random_state=2)\n",
        "    else:\n",
        "        # Instantiate GridSearchCV as grid_reg\n",
        "        grid = GridSearchCV(xgb, params, cv=kfold, n_jobs=-1)\n",
        "    \n",
        "    # Fit grid_reg on X_train and y_train\n",
        "    grid.fit(X, y)\n",
        "\n",
        "    # Extract best params\n",
        "    best_params = grid.best_params_\n",
        "\n",
        "    # Print best params\n",
        "    print(\"Best params:\", best_params)\n",
        "    \n",
        "    # Compute best score\n",
        "    best_score = grid.best_score_\n",
        "\n",
        "    # Print best score\n",
        "    print(\"Best score: {:.5f}\".format(best_score))"
      ],
      "metadata": {
        "id": "SOI0VZ41zNel"
      },
      "execution_count": 14,
      "outputs": []
    },
    {
      "cell_type": "code",
      "source": [
        "grid_search(params={'n_estimators':[100, 200, 400, 800]})"
      ],
      "metadata": {
        "colab": {
          "base_uri": "https://localhost:8080/"
        },
        "id": "F2lTsSfwy-Kv",
        "outputId": "53ad0229-3f74-4c8f-ed71-61158167bfc4"
      },
      "execution_count": 15,
      "outputs": [
        {
          "output_type": "stream",
          "name": "stdout",
          "text": [
            "Best params: {'n_estimators': 100}\n",
            "Best score: 0.78235\n"
          ]
        }
      ]
    },
    {
      "cell_type": "code",
      "source": [
        "grid_search(params={'learning_rate':[0.01, 0.05, 0.1, 0.2, 0.3, 0.4, 0.5]})"
      ],
      "metadata": {
        "colab": {
          "base_uri": "https://localhost:8080/"
        },
        "id": "xvNxgsUk0k3n",
        "outputId": "8b8a96b4-e844-43df-d516-987ba85b2347"
      },
      "execution_count": 16,
      "outputs": [
        {
          "output_type": "stream",
          "name": "stdout",
          "text": [
            "Best params: {'learning_rate': 0.05}\n",
            "Best score: 0.79585\n"
          ]
        }
      ]
    },
    {
      "cell_type": "code",
      "source": [
        "grid_search(params={'max_depth':[2, 3, 5, 6, 8]})"
      ],
      "metadata": {
        "colab": {
          "base_uri": "https://localhost:8080/"
        },
        "id": "dhYdyj4D0oW3",
        "outputId": "9b683134-7281-4f70-f1d2-0fa0dea95021"
      },
      "execution_count": 17,
      "outputs": [
        {
          "output_type": "stream",
          "name": "stdout",
          "text": [
            "Best params: {'max_depth': 2}\n",
            "Best score: 0.79902\n"
          ]
        }
      ]
    },
    {
      "cell_type": "code",
      "source": [
        "grid_search(params={'gamma':[0, 0.01, 0.1, 0.5, 1, 2]})"
      ],
      "metadata": {
        "colab": {
          "base_uri": "https://localhost:8080/"
        },
        "id": "22tFSMfO01aM",
        "outputId": "472f132d-07e9-4aa6-ecbe-60f8787b4755"
      },
      "execution_count": 18,
      "outputs": [
        {
          "output_type": "stream",
          "name": "stdout",
          "text": [
            "Best params: {'gamma': 0.5}\n",
            "Best score: 0.79574\n"
          ]
        }
      ]
    },
    {
      "cell_type": "code",
      "source": [
        "grid_search(params={'min_child_weight':[1, 2, 3, 4, 5]})"
      ],
      "metadata": {
        "colab": {
          "base_uri": "https://localhost:8080/"
        },
        "id": "oPPkBnsp07Yi",
        "outputId": "1b029994-3dd0-4064-b4cc-9a2d04aadca5"
      },
      "execution_count": 19,
      "outputs": [
        {
          "output_type": "stream",
          "name": "stdout",
          "text": [
            "Best params: {'min_child_weight': 5}\n",
            "Best score: 0.81219\n"
          ]
        }
      ]
    },
    {
      "cell_type": "code",
      "source": [
        "grid_search(params={'subsample':[0.5, 0.7, 0.8, 0.9, 1]})"
      ],
      "metadata": {
        "colab": {
          "base_uri": "https://localhost:8080/"
        },
        "id": "x0N-jTVD1Bg4",
        "outputId": "69f7fc7f-a745-4afc-8fd2-6414932e2c0d"
      },
      "execution_count": 20,
      "outputs": [
        {
          "output_type": "stream",
          "name": "stdout",
          "text": [
            "Best params: {'subsample': 0.8}\n",
            "Best score: 0.79579\n"
          ]
        }
      ]
    },
    {
      "cell_type": "markdown",
      "source": [
        "#Applying early stopping\n",
        "Early stopping is a general method to limit the number of training rounds in iterative machine learning algorithms. In this section, we look at eval_set, eval_metric, and early_stopping_rounds to apply early stopping.\n",
        "\n",
        "What is early stopping?"
      ],
      "metadata": {
        "id": "8GZV25ve1RNf"
      }
    },
    {
      "cell_type": "markdown",
      "source": [
        "# eval_set and eval_metric\n",
        "early_stopping_rounds is not a hyperparameter, but a strategy for optimizing the n_estimators hyperparameter.\n",
        "\n",
        "Normally when choosing hyperparameters, a test score is given after all boosting rounds are complete. To use early stopping, we need a test score after each round.\n",
        "\n",
        "eval_metric and eval_set may be used as parameters for .fit to generate test scores for each training round. eval_metric provides the scoring method, commonly 'error' for classification, and 'rmse' for regression. eval_set provides the test to be evaluated, commonly X_test and y_test."
      ],
      "metadata": {
        "id": "HrxNPwzw1vex"
      }
    },
    {
      "cell_type": "code",
      "source": [
        "# Import train_test_split\n",
        "from sklearn.model_selection import train_test_split\n",
        "\n",
        "# Split data into train and test sets\n",
        "X_train, X_test, y_train, y_test = train_test_split(X, y, random_state=2)\n",
        "\n",
        "model = XGBClassifier(booster='gbtree', objective='binary:logistic', random_state=2)\n",
        "eval_set = [(X_test, y_test)]\n",
        "eval_metric='error'\n",
        "model.fit(X_train, y_train, eval_metric=eval_metric, eval_set=eval_set)\n",
        "# make predictions for test data\n",
        "y_pred = model.predict(X_test)\n",
        "# evaluate predictions\n",
        "accuracy = accuracy_score(y_test, y_pred)\n",
        "print(\"Accuracy: %.2f%%\" % (accuracy * 100.0))"
      ],
      "metadata": {
        "colab": {
          "base_uri": "https://localhost:8080/"
        },
        "id": "onP0SNZ81Fgp",
        "outputId": "cf4e5ae3-a871-4281-f5cf-5ca0f3c7a903"
      },
      "execution_count": 21,
      "outputs": [
        {
          "output_type": "stream",
          "name": "stdout",
          "text": [
            "[0]\tvalidation_0-error:0.15789\n",
            "[1]\tvalidation_0-error:0.10526\n",
            "[2]\tvalidation_0-error:0.11842\n",
            "[3]\tvalidation_0-error:0.13158\n",
            "[4]\tvalidation_0-error:0.11842\n",
            "[5]\tvalidation_0-error:0.14474\n",
            "[6]\tvalidation_0-error:0.14474\n",
            "[7]\tvalidation_0-error:0.14474\n",
            "[8]\tvalidation_0-error:0.14474\n",
            "[9]\tvalidation_0-error:0.14474\n",
            "[10]\tvalidation_0-error:0.14474\n",
            "[11]\tvalidation_0-error:0.15789\n",
            "[12]\tvalidation_0-error:0.15789\n",
            "[13]\tvalidation_0-error:0.17105\n",
            "[14]\tvalidation_0-error:0.17105\n",
            "[15]\tvalidation_0-error:0.17105\n",
            "[16]\tvalidation_0-error:0.15789\n",
            "[17]\tvalidation_0-error:0.17105\n",
            "[18]\tvalidation_0-error:0.15789\n",
            "[19]\tvalidation_0-error:0.17105\n",
            "[20]\tvalidation_0-error:0.17105\n",
            "[21]\tvalidation_0-error:0.17105\n",
            "[22]\tvalidation_0-error:0.18421\n",
            "[23]\tvalidation_0-error:0.18421\n",
            "[24]\tvalidation_0-error:0.17105\n",
            "[25]\tvalidation_0-error:0.18421\n",
            "[26]\tvalidation_0-error:0.18421\n",
            "[27]\tvalidation_0-error:0.18421\n",
            "[28]\tvalidation_0-error:0.18421\n",
            "[29]\tvalidation_0-error:0.18421\n",
            "[30]\tvalidation_0-error:0.18421\n",
            "[31]\tvalidation_0-error:0.18421\n",
            "[32]\tvalidation_0-error:0.18421\n",
            "[33]\tvalidation_0-error:0.18421\n",
            "[34]\tvalidation_0-error:0.18421\n",
            "[35]\tvalidation_0-error:0.18421\n",
            "[36]\tvalidation_0-error:0.18421\n",
            "[37]\tvalidation_0-error:0.18421\n",
            "[38]\tvalidation_0-error:0.18421\n",
            "[39]\tvalidation_0-error:0.18421\n",
            "[40]\tvalidation_0-error:0.18421\n",
            "[41]\tvalidation_0-error:0.18421\n",
            "[42]\tvalidation_0-error:0.18421\n",
            "[43]\tvalidation_0-error:0.17105\n",
            "[44]\tvalidation_0-error:0.18421\n",
            "[45]\tvalidation_0-error:0.17105\n",
            "[46]\tvalidation_0-error:0.18421\n",
            "[47]\tvalidation_0-error:0.18421\n",
            "[48]\tvalidation_0-error:0.17105\n",
            "[49]\tvalidation_0-error:0.15789\n",
            "[50]\tvalidation_0-error:0.17105\n",
            "[51]\tvalidation_0-error:0.17105\n",
            "[52]\tvalidation_0-error:0.15789\n",
            "[53]\tvalidation_0-error:0.17105\n",
            "[54]\tvalidation_0-error:0.17105\n",
            "[55]\tvalidation_0-error:0.17105\n",
            "[56]\tvalidation_0-error:0.17105\n",
            "[57]\tvalidation_0-error:0.17105\n",
            "[58]\tvalidation_0-error:0.17105\n",
            "[59]\tvalidation_0-error:0.17105\n",
            "[60]\tvalidation_0-error:0.17105\n",
            "[61]\tvalidation_0-error:0.17105\n",
            "[62]\tvalidation_0-error:0.17105\n",
            "[63]\tvalidation_0-error:0.17105\n",
            "[64]\tvalidation_0-error:0.17105\n",
            "[65]\tvalidation_0-error:0.17105\n",
            "[66]\tvalidation_0-error:0.18421\n",
            "[67]\tvalidation_0-error:0.18421\n",
            "[68]\tvalidation_0-error:0.18421\n",
            "[69]\tvalidation_0-error:0.18421\n",
            "[70]\tvalidation_0-error:0.18421\n",
            "[71]\tvalidation_0-error:0.18421\n",
            "[72]\tvalidation_0-error:0.18421\n",
            "[73]\tvalidation_0-error:0.18421\n",
            "[74]\tvalidation_0-error:0.17105\n",
            "[75]\tvalidation_0-error:0.18421\n",
            "[76]\tvalidation_0-error:0.17105\n",
            "[77]\tvalidation_0-error:0.18421\n",
            "[78]\tvalidation_0-error:0.15789\n",
            "[79]\tvalidation_0-error:0.17105\n",
            "[80]\tvalidation_0-error:0.15789\n",
            "[81]\tvalidation_0-error:0.15789\n",
            "[82]\tvalidation_0-error:0.15789\n",
            "[83]\tvalidation_0-error:0.15789\n",
            "[84]\tvalidation_0-error:0.15789\n",
            "[85]\tvalidation_0-error:0.15789\n",
            "[86]\tvalidation_0-error:0.15789\n",
            "[87]\tvalidation_0-error:0.15789\n",
            "[88]\tvalidation_0-error:0.15789\n",
            "[89]\tvalidation_0-error:0.15789\n",
            "[90]\tvalidation_0-error:0.15789\n",
            "[91]\tvalidation_0-error:0.15789\n",
            "[92]\tvalidation_0-error:0.15789\n",
            "[93]\tvalidation_0-error:0.17105\n",
            "[94]\tvalidation_0-error:0.17105\n",
            "[95]\tvalidation_0-error:0.17105\n",
            "[96]\tvalidation_0-error:0.17105\n",
            "[97]\tvalidation_0-error:0.17105\n",
            "[98]\tvalidation_0-error:0.17105\n",
            "[99]\tvalidation_0-error:0.17105\n",
            "Accuracy: 82.89%\n"
          ]
        }
      ]
    },
    {
      "cell_type": "code",
      "source": [
        "model = XGBClassifier(booster='gbtree', objective='binary:logistic', random_state=2)\n",
        "eval_set = [(X_test, y_test)]\n",
        "eval_metric=\"error\"\n",
        "model.fit(X_train, y_train, eval_metric=eval_metric, eval_set=eval_set, early_stopping_rounds=10, verbose=True)\n",
        "y_pred = model.predict(X_test)\n",
        "accuracy = accuracy_score(y_test, y_pred)\n",
        "print(\"Accuracy: %.2f%%\" % (accuracy * 100.0))"
      ],
      "metadata": {
        "colab": {
          "base_uri": "https://localhost:8080/"
        },
        "id": "nT67YcOd1hUF",
        "outputId": "5afba58d-6832-4d7a-e688-4227f4d560c6"
      },
      "execution_count": 22,
      "outputs": [
        {
          "output_type": "stream",
          "name": "stdout",
          "text": [
            "[0]\tvalidation_0-error:0.15789\n",
            "[1]\tvalidation_0-error:0.10526\n",
            "[2]\tvalidation_0-error:0.11842\n",
            "[3]\tvalidation_0-error:0.13158\n",
            "[4]\tvalidation_0-error:0.11842\n",
            "[5]\tvalidation_0-error:0.14474\n",
            "[6]\tvalidation_0-error:0.14474\n",
            "[7]\tvalidation_0-error:0.14474\n",
            "[8]\tvalidation_0-error:0.14474\n",
            "[9]\tvalidation_0-error:0.14474\n",
            "[10]\tvalidation_0-error:0.14474\n",
            "[11]\tvalidation_0-error:0.15789\n",
            "Accuracy: 89.47%\n"
          ]
        }
      ]
    },
    {
      "cell_type": "code",
      "source": [
        "grid_search(params={'subsample':[0.5, 0.6, 0.7, 0.8, 0.9, 1], 'min_child_weight' :[1, 2, 3, 4, 5],'learning_rate' : [0.1, 0.2, 0.3, 0.4, 0.5], 'max_depth':[1, 2, 3, 4, 5, None],'n_estimators':[2, 25, 50, 75, 100]},random=True)"
      ],
      "metadata": {
        "colab": {
          "base_uri": "https://localhost:8080/"
        },
        "id": "Un-Zr-Ul2CeJ",
        "outputId": "a948e8cc-1961-4546-a919-6212eb49ebcc"
      },
      "execution_count": 24,
      "outputs": [
        {
          "output_type": "stream",
          "name": "stdout",
          "text": [
            "Best params: {'subsample': 0.6, 'n_estimators': 25, 'min_child_weight': 4, 'max_depth': 4, 'learning_rate': 0.5}\n",
            "Best score: 0.82208\n"
          ]
        }
      ]
    },
    {
      "cell_type": "markdown",
      "source": [
        "# colsample_bytree\n",
        "Similar to subsample, colsample_bytree randomly selects particular columns according to the given percentage. colsample_bytree is useful for limiting the influence of columns and reducing variance. Note that colsample_bytree takes a percentage as input"
      ],
      "metadata": {
        "id": "lL1uMpzQ4Z5y"
      }
    },
    {
      "cell_type": "code",
      "source": [
        "grid_search(params={'colsample_bytree':[0.5, 0.6, 0.7, 0.8, 0.9, 1], 'max_depth':[1], 'n_estimators':[50]})"
      ],
      "metadata": {
        "colab": {
          "base_uri": "https://localhost:8080/"
        },
        "id": "hqH5aPIX3ll8",
        "outputId": "6413f7c5-6237-457b-ee1b-1998f9b9b947"
      },
      "execution_count": 25,
      "outputs": [
        {
          "output_type": "stream",
          "name": "stdout",
          "text": [
            "Best params: {'colsample_bytree': 1, 'max_depth': 1, 'n_estimators': 50}\n",
            "Best score: 0.83869\n"
          ]
        }
      ]
    },
    {
      "cell_type": "code",
      "source": [
        "grid_search(params={'colsample_bynode':[0.5, 0.6, 0.7, 0.8, 0.9, 1], 'colsample_bylevel':[0.5, 0.6, 0.7, 0.8, 0.9, 1], 'colsample_bytree':[0.5, 0.6, 0.7, 0.8, 0.9, 1], 'max_depth':[1], 'n_estimators':[50]})"
      ],
      "metadata": {
        "colab": {
          "base_uri": "https://localhost:8080/"
        },
        "id": "chg-7LEo4Gcq",
        "outputId": "c37cb0a4-b852-4e30-e51e-db88e9d09bb5"
      },
      "execution_count": 26,
      "outputs": [
        {
          "output_type": "stream",
          "name": "stdout",
          "text": [
            "Best params: {'colsample_bylevel': 0.6, 'colsample_bynode': 0.7, 'colsample_bytree': 0.8, 'max_depth': 1, 'n_estimators': 50}\n",
            "Best score: 0.84852\n"
          ]
        }
      ]
    },
    {
      "cell_type": "markdown",
      "source": [
        "#gamma\n",
        "The last hyperparameter that we will attempt to fine-tune is gamma. Here is a range of gamma values designed to reduce overfitting:"
      ],
      "metadata": {
        "id": "vB46u0WE41T7"
      }
    },
    {
      "cell_type": "code",
      "source": [
        "grid_search(params={'gamma':[0, 0.01, 0.05, 0.1, 0.5, 1, 2, 3], 'colsample_bylevel':[0.9], 'colsample_bytree':[0.8], 'colsample_bynode':[0.5], 'max_depth':[1], 'n_estimators':[50]})"
      ],
      "metadata": {
        "colab": {
          "base_uri": "https://localhost:8080/"
        },
        "id": "SwO-ROY642PQ",
        "outputId": "1822fb51-c97c-445a-dc0a-32d2efbf5a1b"
      },
      "execution_count": 27,
      "outputs": [
        {
          "output_type": "stream",
          "name": "stdout",
          "text": [
            "Best params: {'colsample_bylevel': 0.9, 'colsample_bynode': 0.5, 'colsample_bytree': 0.8, 'gamma': 0, 'max_depth': 1, 'n_estimators': 50}\n",
            "Best score: 0.83536\n"
          ]
        }
      ]
    },
    {
      "cell_type": "markdown",
      "source": [
        "XGBoost hyperparameter fine-tuning takes time to master, and you are well on your way. Fine-tuning hyperparameters is a key skill that separates machine learning experts from machine learning novices. Knowledge of XGBoost hyperparameters is not just useful, it's essential to get the most out of the machine learning models that you build."
      ],
      "metadata": {
        "id": "8aPMvxO15LMc"
      }
    },
    {
      "cell_type": "code",
      "source": [],
      "metadata": {
        "id": "AglaE5iL458F"
      },
      "execution_count": null,
      "outputs": []
    }
  ]
}